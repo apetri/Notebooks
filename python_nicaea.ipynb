{
 "metadata": {
  "name": "",
  "signature": "sha256:ce6f4d6c8caedb82ec7fa8243716d3e34facce69950c07080b9a6279db1d63f3"
 },
 "nbformat": 3,
 "nbformat_minor": 0,
 "worksheets": [
  {
   "cells": [
    {
     "cell_type": "code",
     "collapsed": false,
     "input": [
      "%matplotlib inline\n",
      "import numpy as np\n",
      "import matplotlib.pyplot as plt\n",
      "\n",
      "#astropy\n",
      "from astropy.cosmology import WMAP9\n",
      "import astropy.units as u\n",
      "\n",
      "#NICAEA bindings\n",
      "from lenstools.simulations import Nicaea,NicaeaSettings"
     ],
     "language": "python",
     "metadata": {},
     "outputs": [],
     "prompt_number": 1
    },
    {
     "cell_type": "markdown",
     "metadata": {},
     "source": [
      "Generate default settings for NICAEA"
     ]
    },
    {
     "cell_type": "code",
     "collapsed": false,
     "input": [
      "settings = NicaeaSettings.default()\n",
      "settings"
     ],
     "language": "python",
     "metadata": {},
     "outputs": [
      {
       "metadata": {},
       "output_type": "pyout",
       "prompt_number": 3,
       "text": [
        "{'normmode': 'norm_s8',\n",
        " 'q_mag_size': 1.0,\n",
        " 'sde_param': 'linder',\n",
        " 'sgrowth': 'growth_de',\n",
        " 'snonlinear': 'smith03',\n",
        " 'sreduced': 'none',\n",
        " 'stomo': 'tomo_all',\n",
        " 'stransfer': 'eisenhu'}"
       ]
      }
     ],
     "prompt_number": 3
    },
    {
     "cell_type": "markdown",
     "metadata": {},
     "source": [
      "You can also see the available tunable options, and the allowed values for each option"
     ]
    },
    {
     "cell_type": "code",
     "collapsed": false,
     "input": [
      "settings.knobs"
     ],
     "language": "python",
     "metadata": {},
     "outputs": [
      {
       "metadata": {},
       "output_type": "pyout",
       "prompt_number": 4,
       "text": [
        "['sde_param',\n",
        " 'sgrowth',\n",
        " 'sreduced',\n",
        " 'normmode',\n",
        " 'stomo',\n",
        " 'stransfer',\n",
        " 'snonlinear',\n",
        " 'q_mag_size']"
       ]
      }
     ],
     "prompt_number": 4
    },
    {
     "cell_type": "code",
     "collapsed": false,
     "input": [
      "settings.available(\"snonlinear\")"
     ],
     "language": "python",
     "metadata": {},
     "outputs": [
      {
       "metadata": {},
       "output_type": "pyout",
       "prompt_number": 6,
       "text": [
        "['linear',\n",
        " 'pd96',\n",
        " 'smith03',\n",
        " 'smith03_de',\n",
        " 'coyote10',\n",
        " 'coyote13',\n",
        " 'halodm',\n",
        " 'smith03_revised']"
       ]
      }
     ],
     "prompt_number": 6
    },
    {
     "cell_type": "markdown",
     "metadata": {},
     "source": [
      "Instantiate a Nicaea object directly from one of astropy built-in cosmology instances"
     ]
    },
    {
     "cell_type": "code",
     "collapsed": false,
     "input": [
      "cosmo = Nicaea.fromCosmology(WMAP9)\n",
      "cosmo"
     ],
     "language": "python",
     "metadata": {},
     "outputs": [
      {
       "metadata": {},
       "output_type": "pyout",
       "prompt_number": 9,
       "text": [
        "Nicaea(H0=69.3 km / (Mpc s), Om0=0.286, Ode0=0.713, sigma8=0.8, ns=0.96, Ob0=0.046, w0=-1, wa=0, Tcmb0=2.725 K, Neff=3.04, m_nu=[ 0.  0.  0.] eV)"
       ]
      }
     ],
     "prompt_number": 9
    },
    {
     "cell_type": "heading",
     "level": 3,
     "metadata": {},
     "source": [
      "$\\kappa$ angular power spectrum"
     ]
    },
    {
     "cell_type": "markdown",
     "metadata": {},
     "source": [
      "Select the multipoles"
     ]
    },
    {
     "cell_type": "code",
     "collapsed": false,
     "input": [
      "ell = np.arange(300.0,1.0e5,500.0)"
     ],
     "language": "python",
     "metadata": {},
     "outputs": [],
     "prompt_number": 13
    },
    {
     "cell_type": "markdown",
     "metadata": {},
     "source": [
      "Compute the power spectrum (assuming single redshift source distribution at $z=2$)"
     ]
    },
    {
     "cell_type": "code",
     "collapsed": false,
     "input": [
      "power = cosmo.convergencePowerSpectrum(ell,z=2.0,settings=settings)"
     ],
     "language": "python",
     "metadata": {},
     "outputs": [],
     "prompt_number": 14
    },
    {
     "cell_type": "code",
     "collapsed": false,
     "input": [
      "fig,ax = plt.subplots(figsize=(8,8))\n",
      "ax.plot(ell,ell*(ell+1)*power/(2.0*np.pi))\n",
      "ax.set_xscale(\"log\")\n",
      "ax.set_yscale(\"log\")\n",
      "ax.set_xlabel(r\"$l$\",fontsize=18)\n",
      "ax.set_ylabel(r\"$l(l+1)P_l/2\\pi$\",fontsize=18)        "
     ],
     "language": "python",
     "metadata": {},
     "outputs": [
      {
       "metadata": {},
       "output_type": "pyout",
       "prompt_number": 20,
       "text": [
        "<matplotlib.text.Text at 0x11068c910>"
       ]
      },
      {
       "metadata": {},
       "output_type": "display_data",
       "png": "[encoded data removed]",
       "text": [
        "<matplotlib.figure.Figure at 0x110149710>"
       ]
      }
     ],
     "prompt_number": 20
    },
    {
     "cell_type": "heading",
     "level": 3,
     "metadata": {},
     "source": [
      "Shear two point function"
     ]
    },
    {
     "cell_type": "markdown",
     "metadata": {},
     "source": [
      "Select angles"
     ]
    },
    {
     "cell_type": "code",
     "collapsed": false,
     "input": [
      "theta = np.arange(1.0,100.0,1.0)*u.arcmin"
     ],
     "language": "python",
     "metadata": {},
     "outputs": [],
     "prompt_number": 21
    },
    {
     "cell_type": "code",
     "collapsed": false,
     "input": [
      "xi_plus = cosmo.shearTwoPoint(theta,z=2.0,settings=settings,kind=\"+\")\n",
      "xi_minus = cosmo.shearTwoPoint(theta,z=2.0,settings=settings,kind=\"-\")"
     ],
     "language": "python",
     "metadata": {},
     "outputs": [],
     "prompt_number": 22
    },
    {
     "cell_type": "code",
     "collapsed": false,
     "input": [
      "fig,ax = plt.subplots(figsize=(8,8))\n",
      "ax.plot(theta,xi_plus,label=r\"$\\xi_+$\")\n",
      "ax.plot(theta,xi_minus,label=r\"$\\xi_-$\")\n",
      "ax.set_xscale(\"log\")\n",
      "ax.set_xlabel(r\"$\\theta(\\mathrm{arcmin})$\",fontsize=18)\n",
      "ax.set_ylabel(r\"$\\xi(\\theta)$\",fontsize=18) \n",
      "ax.legend()"
     ],
     "language": "python",
     "metadata": {},
     "outputs": [
      {
       "metadata": {},
       "output_type": "pyout",
       "prompt_number": 26,
       "text": [
        "<matplotlib.legend.Legend at 0x11151e850>"
       ]
      },
      {
       "metadata": {},
       "output_type": "display_data",
       "png": "[encoded data removed]",
       "text": [
        "<matplotlib.figure.Figure at 0x110a7f3d0>"
       ]
      }
     ],
     "prompt_number": 26
    },
    {
     "cell_type": "code",
     "collapsed": false,
     "input": [],
     "language": "python",
     "metadata": {},
     "outputs": []
    }
   ],
   "metadata": {}
  }
 ]
}