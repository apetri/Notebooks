{
 "metadata": {
  "name": "",
  "signature": "sha256:0c14c59b8caaa967bcf6f829374bad26f415af8c856955d3b9162a79ad27887f"
 },
 "nbformat": 3,
 "nbformat_minor": 0,
 "worksheets": [
  {
   "cells": [
    {
     "cell_type": "heading",
     "level": 1,
     "metadata": {},
     "source": [
      "Geiger counter event recorder through the sound card"
     ]
    },
    {
     "cell_type": "markdown",
     "metadata": {},
     "source": [
      "This code snippet shows how to use the provided API to perform event recordings from a Geiger counter which output is fed through the sound card of a computer"
     ]
    },
    {
     "cell_type": "code",
     "collapsed": false,
     "input": [
      "%matplotlib inline\n",
      "import matplotlib.pyplot as plt\n",
      "from counter import Recorder"
     ],
     "language": "python",
     "metadata": {},
     "outputs": [],
     "prompt_number": 1
    },
    {
     "cell_type": "heading",
     "level": 3,
     "metadata": {},
     "source": [
      "Here is an example on how to use the API to perfom a simple recording"
     ]
    },
    {
     "cell_type": "markdown",
     "metadata": {},
     "source": [
      "First decide which will the input device (can be a simple microphone, or the Geiger counter audio jack)"
     ]
    },
    {
     "cell_type": "code",
     "collapsed": false,
     "input": [
      "Recorder.list_devices()"
     ],
     "language": "python",
     "metadata": {},
     "outputs": [
      {
       "metadata": {},
       "output_type": "pyout",
       "prompt_number": 2,
       "text": [
        "[u'Built-in Microph', u'Built-in Output', u'Aggregate Device']"
       ]
      }
     ],
     "prompt_number": 2
    },
    {
     "cell_type": "markdown",
     "metadata": {},
     "source": [
      "Instantiate the Recorder object, 1 channel, sampling rate at 44100Hz, recording buffer at 1024 events, input device is Built-in Microph"
     ]
    },
    {
     "cell_type": "code",
     "collapsed": false,
     "input": [
      "recorder = Recorder(channels=1,rate=44100,frames_per_buffer=1024,input_device_index=0)"
     ],
     "language": "python",
     "metadata": {},
     "outputs": [],
     "prompt_number": 3
    },
    {
     "cell_type": "markdown",
     "metadata": {},
     "source": [
      "Record for 5 seconds and display the waveform"
     ]
    },
    {
     "cell_type": "code",
     "collapsed": false,
     "input": [
      "recorder.record(5)\n",
      "recorder.visualize()"
     ],
     "language": "python",
     "metadata": {},
     "outputs": [
      {
       "output_type": "stream",
       "stream": "stdout",
       "text": [
        "\u001b[32m[+] Started recording on Built-in Microph, channels=1, rate=44100, frames per buffer=1024\u001b[39m\n",
        "\u001b[31m[-] Stopped recording\u001b[39m"
       ]
      },
      {
       "output_type": "stream",
       "stream": "stdout",
       "text": [
        "\n"
       ]
      },
      {
       "metadata": {},
       "output_type": "display_data",
       "png": "[encoded data removed]",
       "text": [
        "<matplotlib.figure.Figure at 0x10e96b650>"
       ]
      }
     ],
     "prompt_number": 4
    },
    {
     "cell_type": "markdown",
     "metadata": {},
     "source": [
      "Record for 5 seconds, and trigger on a raising slope above $y=0.1$"
     ]
    },
    {
     "cell_type": "code",
     "collapsed": false,
     "input": [
      "fig,ax = plt.subplots()\n",
      "t,y = recorder.record_above_threshold(5,threshold=0.1,slope=\"raising\",save_waveform=True)\n",
      "recorder.visualize(fig=fig,ax=ax)\n",
      "recorder.ax.scatter(t,y,color=\"red\")"
     ],
     "language": "python",
     "metadata": {},
     "outputs": [
      {
       "output_type": "stream",
       "stream": "stdout",
       "text": [
        "\u001b[32m[+] Started recording on Built-in Microph, channels=1, rate=44100, frames per buffer=1024\u001b[39m\n",
        "\u001b[31m[-] Stopped recording\u001b[39m"
       ]
      },
      {
       "output_type": "stream",
       "stream": "stdout",
       "text": [
        "\n",
        "\u001b[32m[+] Found 11 events on raising threshold=1.00e-01\u001b[39m"
       ]
      },
      {
       "output_type": "stream",
       "stream": "stdout",
       "text": [
        "\n"
       ]
      },
      {
       "metadata": {},
       "output_type": "pyout",
       "prompt_number": 5,
       "text": [
        "<matplotlib.collections.PathCollection at 0x1126a6310>"
       ]
      },
      {
       "metadata": {},
       "output_type": "display_data",
       "png": "[encoded data removed]",
       "text": [
        "<matplotlib.figure.Figure at 0x111413610>"
       ]
      }
     ],
     "prompt_number": 5
    },
    {
     "cell_type": "markdown",
     "metadata": {},
     "source": [
      "The timings of the above threshold events (in seconds) are saved in the variable $t$"
     ]
    },
    {
     "cell_type": "code",
     "collapsed": false,
     "input": [
      "t"
     ],
     "language": "python",
     "metadata": {},
     "outputs": [
      {
       "metadata": {},
       "output_type": "pyout",
       "prompt_number": 6,
       "text": [
        "array([ 1.24985792,  1.24999432,  1.25033531,  1.92182136,  1.9219123 ,\n",
        "        1.92213963,  1.92266248,  1.92309441,  1.92354907,  1.92400373,\n",
        "        1.92450385])"
       ]
      }
     ],
     "prompt_number": 6
    },
    {
     "cell_type": "markdown",
     "metadata": {},
     "source": [
      "You can also run the whole recording pipeline automatically: you just have to specify your preferences in a configuration file (or use the default one if you wish)"
     ]
    },
    {
     "cell_type": "code",
     "collapsed": false,
     "input": [
      "cat config"
     ],
     "language": "python",
     "metadata": {},
     "outputs": [
      {
       "output_type": "stream",
       "stream": "stdout",
       "text": [
        "[counter]\r\n",
        "\r\n",
        "num_channels = 1\r\n",
        "rate = 44100\r\n",
        "frames_per_buffer = 1024\r\n",
        "recording_time = 5\r\n",
        "\r\n",
        "[output]\r\n",
        "\r\n",
        "events_file = events.txt\r\n",
        "save_full_waveform = True"
       ]
      }
     ],
     "prompt_number": 7
    },
    {
     "cell_type": "code",
     "collapsed": false,
     "input": [
      "run geiger.py"
     ],
     "language": "python",
     "metadata": {},
     "outputs": [
      {
       "output_type": "stream",
       "stream": "stdout",
       "text": [
        "\u001b[33m[*] Reading configuration from config:\u001b[39m\n",
        "\u001b[32m[+] Number of channels: 1\u001b[39m\n",
        "\u001b[32m[+] Acquisition rate: 44100Hz\u001b[39m\n",
        "\u001b[32m[+] Frame buffer size: 1024\u001b[39m\n"
       ]
      },
      {
       "name": "stdout",
       "output_type": "stream",
       "stream": "stdout",
       "text": [
        "\u001b[33m\n",
        "Enter the recording time in seconds (5.0s) --> \u001b[39m\n"
       ]
      },
      {
       "output_type": "stream",
       "stream": "stdout",
       "text": [
        "\u001b[32m[+] Recording time set to 5.0s\u001b[39m\n",
        "\u001b[33m\n",
        "[*] Select a recording device (0-2) among:\n",
        "\u001b[39m\n",
        "\u001b[33m0: Built-in Microph\u001b[39m\n",
        "\u001b[33m1: Built-in Output\u001b[39m\n",
        "\u001b[33m2: Aggregate Device\u001b[39m\n"
       ]
      },
      {
       "name": "stdout",
       "output_type": "stream",
       "stream": "stdout",
       "text": [
        "-->0\n"
       ]
      },
      {
       "output_type": "stream",
       "stream": "stdout",
       "text": [
        "\u001b[32m[+] Selected device 0: Built-in Microph\n",
        "\u001b[39m\n"
       ]
      },
      {
       "name": "stdout",
       "output_type": "stream",
       "stream": "stdout",
       "text": [
        "\u001b[33m[*] Select a threshold: \u001b[39m0.1\n"
       ]
      },
      {
       "output_type": "stream",
       "stream": "stdout",
       "text": [
        "\u001b[32m[+] Threshold set to 1.00e-01\n",
        "\u001b[39m\n"
       ]
      },
      {
       "name": "stdout",
       "output_type": "stream",
       "stream": "stdout",
       "text": [
        "\u001b[33m[*] Select a triggering slope (raising, descending): \u001b[39mraising\n"
       ]
      },
      {
       "output_type": "stream",
       "stream": "stdout",
       "text": [
        "\u001b[32m[+] Slope set to raising\n",
        "\u001b[39m\n",
        "\u001b[32m[+] According to the configuration, you want to save the whole waveform\u001b[39m\n"
       ]
      },
      {
       "name": "stdout",
       "output_type": "stream",
       "stream": "stdout",
       "text": [
        "\u001b[33m[*] Select a file to write the whole waveform to: \u001b[39mwaveform_environment.npy\n"
       ]
      },
      {
       "output_type": "stream",
       "stream": "stdout",
       "text": [
        "\u001b[32m[+] The full waveform will be saved to: waveform_environment.npy\n",
        "\u001b[39m\n",
        "\u001b[32m[+] Started recording on Built-in Microph, channels=1, rate=44100, frames per buffer=1024\u001b[39m\n",
        "\u001b[31m[-] Stopped recording\u001b[39m"
       ]
      },
      {
       "output_type": "stream",
       "stream": "stdout",
       "text": [
        "\n",
        "\u001b[32m[+] Found 12 events on raising threshold=1.00e-01\u001b[39m"
       ]
      },
      {
       "output_type": "stream",
       "stream": "stdout",
       "text": [
        "\n",
        "\u001b[33m\n",
        "[*] Specify a file on which to save the events (events.txt) \u001b[39m\n"
       ]
      },
      {
       "name": "stdout",
       "output_type": "stream",
       "stream": "stdout",
       "text": [
        "\u001b[33m-->\u001b[39mevents_environment.txt\n"
       ]
      },
      {
       "output_type": "stream",
       "stream": "stdout",
       "text": [
        "\u001b[32m[+] Saving events to events_environment.txt\u001b[39m\n",
        "\u001b[32m[+] Saving full waveform (t,y) to waveform_environment.npy\u001b[39m\n"
       ]
      },
      {
       "name": "stdout",
       "output_type": "stream",
       "stream": "stdout",
       "text": [
        "\u001b[33m[*] Do you want to plot the waveform? (y/n)\u001b[39my\n"
       ]
      },
      {
       "output_type": "stream",
       "stream": "stdout",
       "text": [
        "\u001b[33m[+] Plotting waveform to waveform_environment.png\u001b[39m\n",
        "\u001b[31m[-] Event recording complete, bye\u001b[39m"
       ]
      },
      {
       "output_type": "stream",
       "stream": "stdout",
       "text": [
        "\n"
       ]
      },
      {
       "metadata": {},
       "output_type": "display_data",
       "png": "[encoded data removed]",
       "text": [
        "<matplotlib.figure.Figure at 0x1126a6e50>"
       ]
      }
     ],
     "prompt_number": 8
    },
    {
     "cell_type": "markdown",
     "metadata": {},
     "source": [
      "And here is the log of the events above threshold"
     ]
    },
    {
     "cell_type": "code",
     "collapsed": false,
     "input": [
      "cat events_environment.txt"
     ],
     "language": "python",
     "metadata": {},
     "outputs": [
      {
       "output_type": "stream",
       "stream": "stdout",
       "text": [
        "7.556434563186251729e-01\r\n",
        "1.955193343790492921e+00\r\n",
        "1.955284275614358025e+00\r\n",
        "1.955352474482256797e+00\r\n",
        "1.955738934733683321e+00\r\n",
        "2.519425310873173007e+00\r\n",
        "2.519789038168632977e+00\r\n",
        "2.520243697287958273e+00\r\n",
        "2.520675623451317460e+00\r\n",
        "2.521084816658710093e+00\r\n",
        "2.521584941689968051e+00\r\n",
        "2.521971401941394575e+00\r\n"
       ]
      }
     ],
     "prompt_number": 9
    },
    {
     "cell_type": "code",
     "collapsed": false,
     "input": [],
     "language": "python",
     "metadata": {},
     "outputs": []
    }
   ],
   "metadata": {}
  }
 ]
}